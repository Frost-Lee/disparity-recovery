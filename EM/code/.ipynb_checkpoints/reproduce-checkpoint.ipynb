{
 "cells": [
  {
   "cell_type": "code",
   "execution_count": 35,
   "metadata": {},
   "outputs": [],
   "source": [
    "import numpy as np"
   ]
  },
  {
   "cell_type": "markdown",
   "metadata": {},
   "source": [
    "## @TODO\n",
    "\n",
    "1. 再开一个 b_mat ✅\n",
    "2. 写一个自由能函数，看看到底是否会下降 ✅\n",
    "3. b_mat 初始化也有问题，要归一化 ✅\n",
    "4. 现在问题，所有点都被更新为可见\n",
    "5. 把代码取出来，方便debug\n",
    "\n",
    "1. depth -> disparity, 预测 ideal_image 的 disparity_map ✅\n",
    "2. 图片可以再缩小一倍，加快速度 ✅\n",
    "2. b的初始化 ✅\n",
    "3. sigma = 5 ✅\n",
    "4. 向量化编程\n",
    "\n",
    "## 重大错误\n",
    "\n",
    "- 对 $b_i^m$ 更新理解不到位，应该不能用已有的 Depth / visible，而是要估计其二者的分布！"
   ]
  },
  {
   "cell_type": "markdown",
   "metadata": {},
   "source": [
    "## 读取一个图片，获取必要参数"
   ]
  },
  {
   "cell_type": "code",
   "execution_count": 36,
   "metadata": {},
   "outputs": [],
   "source": [
    "from PIL import Image\n",
    "from matplotlib import pyplot as plt\n",
    "import os\n",
    "import utils\n",
    "\n",
    "DATA_PREFIX = \"/Users/yee/Desktop/paper/EM/data/cones/\""
   ]
  },
  {
   "cell_type": "code",
   "execution_count": 37,
   "metadata": {},
   "outputs": [],
   "source": [
    "## 读取图片和disparity map\n",
    "true_disparity_image = (np.array(Image.open(DATA_PREFIX + \"disp2_small.png\")) / 9).astype(int)\n",
    "image1 = np.array(Image.open(DATA_PREFIX + \"im2_small.png\").convert(\"L\"), dtype='int64')\n",
    "image2 = np.array(Image.open(DATA_PREFIX + \"im6_small.png\").convert(\"L\"), dtype='int64')\n"
   ]
  },
  {
   "cell_type": "code",
   "execution_count": 38,
   "metadata": {},
   "outputs": [
    {
     "data": {
      "text/plain": [
       "<matplotlib.image.AxesImage at 0x1a1797f048>"
      ]
     },
     "execution_count": 38,
     "metadata": {},
     "output_type": "execute_result"
    },
    {
     "data": {
      "image/png": "[encoded data removed]",
      "text/plain": [
       "<Figure size 432x288 with 1 Axes>"
      ]
     },
     "metadata": {},
     "output_type": "display_data"
    }
   ],
   "source": [
    "plt.imshow(true_disparity_image, cmap=\"gray\")"
   ]
  },
  {
   "cell_type": "markdown",
   "metadata": {},
   "source": [
    "## 初始化参数\n",
    "\n",
    "注意 width 是列，height 是行！\n",
    "访问 x,y 和 矩阵行列是反的"
   ]
  },
  {
   "cell_type": "code",
   "execution_count": 39,
   "metadata": {},
   "outputs": [],
   "source": [
    "#############################\n",
    "\"\"\" basic params \"\"\"\n",
    "\n",
    "NUM_INPUT = 2\n",
    "HEIGHT = 125\n",
    "WIDTH = 150\n",
    "NUM_COLOR = 2  # 灰度图\n",
    "\n",
    "# 32 种 color bins(0,1,2,3,4,5,6,7 是第一个bin), 灰度图的 scale 0 - 255\n",
    "NUM_COLOR_BINS = 32\n",
    "num_color_in_bin = 256 / NUM_COLOR_BINS\n",
    "C = 10 ** (-4)  # in the psi function(potential function)\n",
    "sigma_d = 300\n",
    "sigma_v = 30\n",
    "\n",
    "###############################\n",
    "\"\"\" visible variables \"\"\"\n",
    "\n",
    "NUM_VISIBLE_CONF = 2  # S\n",
    "NUM_DEPTH_LEVEL = 24  # R depth level\n",
    "num_visible_state = NUM_VISIBLE_CONF * NUM_DEPTH_LEVEL  # M = R * S 从 0 开始 m = r * S + s\n",
    "\n",
    "## visibility configuration matrix\n",
    "visibility_conf_mat = np.array([[1, 1], [1, 0]])\n",
    "\n",
    "## depth value for each level\n",
    "depth_vec = [i + 1 for i in range(NUM_DEPTH_LEVEL)]\n",
    "\n",
    "###############################\n",
    "\"\"\" input image \"\"\"\n",
    "\n",
    "I = [image1, image2]\n",
    "\n",
    "\n",
    "###############################\n",
    "\"\"\" \\Theta\"\"\"\n",
    "\n",
    "## ideal image \n",
    "ideal_image = I[0] ## 初始值设为 I[0]\n",
    "\n",
    "\n",
    "## histgram for each image\n",
    "## 0(0,1,2,3,4,5,6,7), 1(8,9,10,11,12,13,14,15), ... 31 ( 32 bins )\n",
    "## 初始分布暂时选取一个均匀分布\n",
    "hist_mat = np.ones([NUM_INPUT, NUM_COLOR_BINS]) / NUM_COLOR_BINS\n",
    "\n",
    "\n",
    "## 灰度图相当于一个一维分布, 不能随意初始化，否则会导致正太分布的概率过于小\n",
    "covariance = 5\n",
    "###############################\n",
    "\n",
    "\n"
   ]
  },
  {
   "cell_type": "markdown",
   "metadata": {},
   "source": [
    "## 开始对 b 与 visibility_state 的初始化\n",
    "\n",
    "这里无视了任何 ground truth 的结果，先试试这样会怎么样\n"
   ]
  },
  {
   "cell_type": "code",
   "execution_count": 40,
   "metadata": {},
   "outputs": [],
   "source": [
    "b_mat = np.zeros([HEIGHT * WIDTH, num_visible_state])\n",
    "for i in range(HEIGHT * WIDTH):\n",
    "\n",
    "    for m in range(num_visible_state):\n",
    "        row, col = map_1D_to_2D(i)\n",
    "        r, s = map_m_to_r_s(m)\n",
    "        disparity = depth_vec[r]\n",
    "        ## 在第一幅图中能否看到\n",
    "        is_visible = visibility_conf_mat[s][1]\n",
    "        \n",
    "        ## 在第一幅图中，根据 disparity 算出的坐标\n",
    "        kth_row, kth_col = row, col - disparity\n",
    "        \n",
    "        if is_visible:\n",
    "            if is_out_image(kth_row, kth_col):                \n",
    "                color_prob = 0\n",
    "            else:\n",
    "                color_prob = norm_pdf(I[1][kth_row, kth_col], ideal_image[row, col], covariance)\n",
    "        else:\n",
    "            if is_out_image(kth_row, kth_col):                \n",
    "                color_prob = 100\n",
    "            else:\n",
    "                color_prob = hist_prob(1, I[1][kth_row, kth_col])\n",
    "        \n",
    "        b_mat[i, m] = color_prob\n",
    "    ## 归一化\n",
    "    b_mat[i] = b_mat[i] / sum(b_mat[i])\n",
    "        \n",
    "visible_state = np.zeros([HEIGHT, WIDTH])\n",
    "\n",
    "update_visible(b_mat)\n",
    "## 采用期望进行更新\n",
    "\n",
    "## 更新 occlusion\n",
    "\n",
    "\n",
    "        "
   ]
  },
  {
   "cell_type": "code",
   "execution_count": 41,
   "metadata": {},
   "outputs": [],
   "source": [
    "disparity_image = np.zeros([HEIGHT, WIDTH])\n",
    "visible_image = np.zeros([HEIGHT, WIDTH])\n",
    "for i in range(HEIGHT):\n",
    "    for j in range(WIDTH):\n",
    "        vis_state = visible_state[i, j]\n",
    "        r, s = map_m_to_r_s(vis_state)\n",
    "        disparity = depth_vec[r]\n",
    "        is_visible = visibility_conf_mat[s][1]\n",
    "        disparity_image[i, j] = disparity\n",
    "        visible_image[i, j] = is_visible\n",
    "        "
   ]
  },
  {
   "cell_type": "code",
   "execution_count": 42,
   "metadata": {},
   "outputs": [
    {
     "data": {
      "text/plain": [
       "<matplotlib.image.AxesImage at 0x1a17a49198>"
      ]
     },
     "execution_count": 42,
     "metadata": {},
     "output_type": "execute_result"
    },
    {
     "data": {
      "image/png": "[encoded data removed]",
      "text/plain": [
       "<Figure size 432x288 with 1 Axes>"
      ]
     },
     "metadata": {},
     "output_type": "display_data"
    }
   ],
   "source": [
    "plt.imshow(true_disparity_image, cmap='gray')"
   ]
  },
  {
   "cell_type": "code",
   "execution_count": 43,
   "metadata": {},
   "outputs": [
    {
     "data": {
      "text/plain": [
       "<matplotlib.image.AxesImage at 0x1a17c2a0f0>"
      ]
     },
     "execution_count": 43,
     "metadata": {},
     "output_type": "execute_result"
    },
    {
     "data": {
      "image/png": "[encoded data removed]",
      "text/plain": [
       "<Figure size 432x288 with 1 Axes>"
      ]
     },
     "metadata": {},
     "output_type": "display_data"
    }
   ],
   "source": [
    "plt.imshow(disparity_image, cmap='gray')"
   ]
  },
  {
   "cell_type": "code",
   "execution_count": 44,
   "metadata": {},
   "outputs": [
    {
     "data": {
      "text/plain": [
       "<matplotlib.image.AxesImage at 0x1a17e37048>"
      ]
     },
     "execution_count": 44,
     "metadata": {},
     "output_type": "execute_result"
    },
    {
     "data": {
      "image/png": "[encoded data removed]",
      "text/plain": [
       "<Figure size 432x288 with 1 Axes>"
      ]
     },
     "metadata": {},
     "output_type": "display_data"
    }
   ],
   "source": [
    "plt.imshow(visible_image, cmap = 'gray')"
   ]
  },
  {
   "cell_type": "markdown",
   "metadata": {},
   "source": [
    "## EM 算法\n",
    "\n",
    "### 自由能\n",
    "\n",
    "$$F(q, \\theta) = -E_q[logp(y, x|\\theta)] - H(q)$$\n",
    "$$ =-E_q[logp(y|x, \\theta) + logp(x)] - H(q) $$\n",
    "\n",
    "利用 **mean field approxiamation** 来估计后验分布 $p(x | y, \\hat{\\theta^{(t)}}) = h(x) = \\Pi_ih_i(x_i)$\n",
    "\n",
    "计算$ F_{MF}$\n",
    "\n",
    "首先计算 $\\log p(y_{i^{'}} | x_i^m, \\theta) = [f(y^{k}_{i_{'}}; y_i^*, \\Sigma)]^{v_i^{sk}}[g(y_{i^{'}}^k; h^k)]^{1-v_i^{sk}}$"
   ]
  },
  {
   "cell_type": "markdown",
   "metadata": {},
   "source": [
    "## estimation\n",
    "\n",
    "这一步要确定隐变量的分布，用 $b_i^m$ 来代表分布 ideal_image 中第 i 个点，是状态 m 的概率"
   ]
  },
  {
   "cell_type": "markdown",
   "metadata": {},
   "source": [
    "计算 $\\psi_{mn}$ $x_i, x_j, 在 状态 m, n的potential$\n",
    "$\\psi(x_{i}^{rs}, x_{j}^{pq}) = \\exp({-D1 - D2}) + C$\n",
    "\n",
    "$D1 = \\dfrac{D_{ij}(r, p)}{\\sigma_d} = \\dfrac{|r - p|}{ R \\times \\sigma_d}$\n",
    "\n",
    "$D2 = \\dfrac{D_{ij}(s, q)}{\\sigma_v}$"
   ]
  },
  {
   "cell_type": "code",
   "execution_count": 45,
   "metadata": {},
   "outputs": [],
   "source": [
    "import math\n",
    "\n",
    "## depth level 的距离\n",
    "def cal_D1(r, p, sigma_d):\n",
    "    D1 = abs(r - p) / (NUM_DEPTH_LEVEL * sigma_d)\n",
    "    return D1\n",
    "\n",
    "## visibility level 的距离\n",
    "## number of dissimilar entries of v_i^s and v_j^q\n",
    "## s, q configuration 的index，可以对应出两个向量\n",
    "def cal_D2(s, q, sigma_v):\n",
    "    s_conf = visibility_conf_mat[s]\n",
    "    q_conf = visibility_conf_mat[q]\n",
    "    dissimilar_count = 0 \n",
    "    for i in range(len(s_conf)):\n",
    "        if(s_conf[i] != q_conf[i]):\n",
    "            dissimilar_count += 1            \n",
    "    return dissimilar_count / sigma_v\n",
    "\n",
    "## constant C\n",
    "\n",
    "def psi_mn(m, n, C):\n",
    "    r, s = map_m_to_r_s(m)\n",
    "    p, q = map_m_to_r_s(n)\n",
    "#     print(math.exp(-cal_D1(r, p, sigma_d) - cal_D2(s, q, sigma_v)) + C)\n",
    "    return (math.exp(-cal_D1(r, p, sigma_d) - cal_D2(s, q, sigma_v)) + C)"
   ]
  },
  {
   "cell_type": "markdown",
   "metadata": {},
   "source": [
    "## 返回正态分布的概率\n",
    "\n",
    "服从 $\\mu = y_i^*, \\Sigma$ 的正态分布"
   ]
  },
  {
   "cell_type": "code",
   "execution_count": 46,
   "metadata": {},
   "outputs": [],
   "source": [
    "from scipy import stats\n",
    "stats.norm.pdf(2, 0, 4)\n",
    "def norm_pdf(x, mu, sigma):\n",
    "    return math.exp(-0.5 * (x - mu) ** 2 / sigma ** 2) / (math.sqrt(2 * math.pi) * sigma)"
   ]
  },
  {
   "cell_type": "markdown",
   "metadata": {},
   "source": [
    "## 返回 histgram 的概率\n",
    "\n",
    "先考虑灰度图 0 ~ 255\n",
    "\n",
    "$h^k = \\{h_b^k \\}$\n",
    "\n",
    "b 在 $[0, 31]$ 中取值，32个bins\n",
    "\n",
    "$[0, 1, 2, 3, 4, 5, 6, 7] ... [248, 249, 250, 251, 252, 253, 254, 255]$"
   ]
  },
  {
   "cell_type": "code",
   "execution_count": 47,
   "metadata": {},
   "outputs": [],
   "source": [
    "def hist_prob(k, color):\n",
    "    bin_index = int(color // num_color_in_bin)\n",
    "    return hist_mat[k][bin_index]"
   ]
  },
  {
   "cell_type": "markdown",
   "metadata": {},
   "source": [
    "## E step\n",
    "\n",
    "更新 $b_i^m$"
   ]
  },
  {
   "cell_type": "code",
   "execution_count": 48,
   "metadata": {},
   "outputs": [],
   "source": [
    "def update_bim_iterunit(i, m, k):\n",
    "    r, s = map_m_to_r_s(m) \n",
    "    ## 获得 visibility 配置\n",
    "    conf_s = visibility_conf_mat[s]\n",
    "    is_visible = conf_s[k]\n",
    "    row, col = map_1D_to_2D(i)\n",
    "    kth_row, kth_col = map_ideal_to_kth(row, col, k)\n",
    "    if is_out_image(kth_row, kth_col):\n",
    "        if k == 1 and is_visible:\n",
    "            return 0\n",
    "        else:\n",
    "            return 1\n",
    "    if is_visible:\n",
    "        ## 正态分布\n",
    "       \n",
    "        color_prob = norm_pdf(I[k][kth_row, kth_col], ideal_image[row, col], covariance)\n",
    "    else:\n",
    "        ## 从 hist 求概率\n",
    "        color_prob = hist_prob(k, I[k][kth_row, kth_col])\n",
    "        \n",
    "\n",
    "    return color_prob\n",
    "                            \n",
    "\n",
    "def update_bim(i, m):\n",
    "    res = 1\n",
    "    for k in range(NUM_INPUT):\n",
    "        res = res * update_bim_iterunit(i, m, k)\n",
    "    # print(i, m, res)\n",
    "    \n",
    "    ## 第二部分的概率\n",
    "    summation = 0\n",
    "    for j in neighbor(i):\n",
    "        for n in range(num_visible_state):\n",
    "            summation += b_mat[j, n] * math.log(psi_mn(m, n, C))\n",
    "    b_mat[i, m] = res * math.exp(summation)\n",
    "    \n",
    "def update_b():\n",
    "    cnt = 0\n",
    "    for i in range(HEIGHT * WIDTH):\n",
    "        cnt += 1\n",
    "        row, col = map_1D_to_2D(i)\n",
    "        \n",
    "        if cnt == WIDTH:\n",
    "            cnt = 0\n",
    "            print(\"\\r\" + str(row), end=\"\")\n",
    "            ## break\n",
    "            \n",
    "        r, s = map_m_to_r_s(visible_state[row, col])\n",
    "        for m in range(num_visible_state):\n",
    "            \n",
    "#             print(f\"[update_b]: i = {i}\")\n",
    "            update_bim(i, m)\n",
    "    \n",
    "    ## 归一化\n",
    "    for index in range(HEIGHT * WIDTH):\n",
    "        b_mat[index] = b_mat[index] / sum(b_mat[index])\n",
    "            \n",
    "        \n",
    "def free_energy():\n",
    "    sum1 = 0\n",
    "    for i in range(HEIGHT):\n",
    "        for j in range(WIDTH):\n",
    "            for k in range(NUM_INPUT):\n",
    "                for m in range(num_visible_state):\n",
    "                    kth_row, kth_col = map_ideal_to_kth(i, j)\n",
    "                    r, s = map_m_to_r_s(visible_state[i, j])\n",
    "                    conf_s = visibility_conf_mat[s]\n",
    "                    is_visible = conf_s[k]\n",
    "                    if is_visible:\n",
    "                        prob = norm_pdf(I[k][kth_row, kth_col], ideal_image[i, j], covariance)\n",
    "                    else:\n",
    "                        prob = hist_prob(k, I[k][kth_row, kth_col])\n",
    "                        \n",
    "                    sum1 += b_mat[map_2D_to_1D(i, j), m] * prob\n",
    "    print(f\"sum1: {sum1}\")\n",
    "    sum2 = 0\n",
    "    for row in range(HEIGHT):\n",
    "        for col in range(WIDTH):\n",
    "            index = map_2D_to_1D(row, col)\n",
    "            for j in neighbor(index):\n",
    "                for m in range(num_visible_state):\n",
    "                    for n in range(num_visible_state):\n",
    "                        sum2 += b_mat[index, m] * b_mat[j, n] * math.log(psi_mn(m, n, C))\n",
    "    print(f\"sum2: {sum2}\")                    \n",
    "    sum3 = 0\n",
    "    for row in range(HEIGHT):\n",
    "        for col in range(WIDTH):\n",
    "            index = map_2D_to_1D(row, col)\n",
    "            for m in range(num_visible_state):\n",
    "                sum3 += b_mat[index, m] * math.log(b_mat[index, m])\n",
    "    print(f\"sum3: {sum3}\")\n",
    "    return -sum1 - sum2 + sum3\n",
    "            "
   ]
  },
  {
   "cell_type": "markdown",
   "metadata": {},
   "source": [
    "## 更新隐变量 D, V 的值\n",
    "\n",
    "$b_i^m$ 相当于一个隐变量的分布\n",
    "\n"
   ]
  },
  {
   "cell_type": "code",
   "execution_count": 49,
   "metadata": {},
   "outputs": [],
   "source": [
    "## 先采用简单的，取 argmax\n",
    "# 返回Depth level, conf index\n",
    "def update_visible(b):\n",
    "    for i in range(HEIGHT):\n",
    "        for j in range(WIDTH):\n",
    "            index = map_2D_to_1D(i, j)            \n",
    "            max_index = np.argmax(b[index])\n",
    "            visible_state[i, j] = max_index\n",
    "            \n",
    "def E_step():\n",
    "    update_b()\n",
    "    update_visible(b_mat)"
   ]
  },
  {
   "cell_type": "code",
   "execution_count": 50,
   "metadata": {},
   "outputs": [],
   "source": [
    "# print(f\"free energy: {free_energy()}\")"
   ]
  },
  {
   "cell_type": "code",
   "execution_count": 51,
   "metadata": {
    "scrolled": false
   },
   "outputs": [
    {
     "name": "stdout",
     "output_type": "stream",
     "text": [
      "124"
     ]
    }
   ],
   "source": [
    "E_step()"
   ]
  },
  {
   "cell_type": "code",
   "execution_count": null,
   "metadata": {
    "scrolled": true
   },
   "outputs": [],
   "source": [
    "b_mat_new[44465]"
   ]
  },
  {
   "cell_type": "code",
   "execution_count": 52,
   "metadata": {
    "scrolled": true
   },
   "outputs": [
    {
     "data": {
      "text/plain": [
       "array([[25., 25., 25., ..., 26., 22., 20.],\n",
       "       [25., 25., 25., ..., 24., 22., 22.],\n",
       "       [25., 25., 25., ..., 24., 22., 24.],\n",
       "       ...,\n",
       "       [25., 25., 25., ..., 25., 27., 26.],\n",
       "       [25., 25., 25., ..., 26., 26., 26.],\n",
       "       [25., 25., 25., ..., 26., 27., 24.]])"
      ]
     },
     "execution_count": 52,
     "metadata": {},
     "output_type": "execute_result"
    }
   ],
   "source": [
    "visible_state"
   ]
  },
  {
   "cell_type": "code",
   "execution_count": 57,
   "metadata": {},
   "outputs": [],
   "source": [
    "depth_map = np.zeros([HEIGHT, WIDTH])\n",
    "visi_map = np.zeros([HEIGHT, WIDTH])\n",
    "for i in range(HEIGHT):\n",
    "    for j in range(WIDTH):\n",
    "        r, s = map_m_to_r_s(visible_state[i, j])\n",
    "        depth = depth_vec[r]\n",
    "        depth_map[i, j] = depth\n",
    "        s_conf = visibility_conf_mat[s]\n",
    "#         if s_conf[1] != 1:\n",
    "#             print(\"0\")\n",
    "        visi_map[i, j] = s_conf[1]\n",
    "        "
   ]
  },
  {
   "cell_type": "code",
   "execution_count": 58,
   "metadata": {},
   "outputs": [
    {
     "data": {
      "text/plain": [
       "<matplotlib.image.AxesImage at 0x1a18193cf8>"
      ]
     },
     "execution_count": 58,
     "metadata": {},
     "output_type": "execute_result"
    },
    {
     "data": {
      "image/png": "[encoded data removed]",
      "text/plain": [
       "<Figure size 432x288 with 1 Axes>"
      ]
     },
     "metadata": {},
     "output_type": "display_data"
    }
   ],
   "source": [
    "plt.imshow(visi_map, cmap ='gray')"
   ]
  },
  {
   "cell_type": "code",
   "execution_count": 59,
   "metadata": {},
   "outputs": [
    {
     "data": {
      "text/plain": [
       "<matplotlib.image.AxesImage at 0x1a181f4b00>"
      ]
     },
     "execution_count": 59,
     "metadata": {},
     "output_type": "execute_result"
    },
    {
     "data": {
      "image/png": "[encoded data removed]",
      "text/plain": [
       "<Figure size 432x288 with 1 Axes>"
      ]
     },
     "metadata": {},
     "output_type": "display_data"
    }
   ],
   "source": [
    "plt.imshow(depth_map, cmap='gray')\n",
    "# for i in range(HEIGHT):\n",
    "#     for j in range(WIDTH):\n",
    "#         if depth_map[i, j] != 5:\n",
    "#             print(depth_map[i, j])"
   ]
  },
  {
   "cell_type": "markdown",
   "metadata": {},
   "source": [
    "## maxmization\n",
    "\n",
    "更新$y_i^* = \\dfrac{\\Sigma_k V_i^k y^k_{i^{'}}}{\\Sigma_k V_i^k}$\n"
   ]
  },
  {
   "cell_type": "code",
   "execution_count": 14,
   "metadata": {},
   "outputs": [],
   "source": [
    "## 已知 visible variable \n",
    "def update_one_pixel(index):\n",
    "    r, s = map_m_to_r_s(visible_state[map_1D_to_2D(index)])\n",
    "    deno = 0\n",
    "    numer = 0\n",
    "    for k in range(NUM_INPUT):\n",
    "        row, col = map_1D_to_2D(index)\n",
    "        kth_row, kth_col = map_ideal_to_kth(row, col, k)\n",
    "        numer += I[k][kth_row, kth_col] * visibility_conf_mat[s][k]\n",
    "        deno += visibility_conf_mat[s][k]\n",
    "        \n",
    "    ideal_image[row, col] = numer / deno\n",
    "    \n",
    "def update_y_ideal():\n",
    "    for i in range(HEIGHT):\n",
    "        for j in range(WIDTH):\n",
    "            index = map_2D_to_1D(i, j)\n",
    "            update_one_pixel(index)\n",
    "            "
   ]
  },
  {
   "cell_type": "markdown",
   "metadata": {},
   "source": [
    "更新 $\\Sigma$"
   ]
  },
  {
   "cell_type": "code",
   "execution_count": 62,
   "metadata": {},
   "outputs": [],
   "source": [
    "\n",
    "def update_cov():\n",
    "    deno = 0\n",
    "    numer = 0\n",
    "    for i in range(HEIGHT):\n",
    "        for j in range(WIDTH):\n",
    "            index = map_2D_to_1D(i, j)\n",
    "            for k in range(NUM_INPUT):\n",
    "                r, s = map_m_to_r_s(visible_state[i, j])\n",
    "                kth_row, kth_col = map_ideal_to_kth(i, j, k)\n",
    "                tmp = I[k][kth_row, kth_col] - ideal_image[i, j]\n",
    "                numer += visibility_conf_mat[s][k] * (tmp ** 2)\n",
    "                deno += visibility_conf_mat[s][k]\n",
    "                \n",
    "    return numer / deno"
   ]
  },
  {
   "cell_type": "markdown",
   "metadata": {},
   "source": [
    "更新 $h_b^k$"
   ]
  },
  {
   "cell_type": "code",
   "execution_count": 67,
   "metadata": {},
   "outputs": [],
   "source": [
    "def is_in_color_bin(color, b):\n",
    "    bin_index = color // num_color_in_bin\n",
    "    if int(bin_index) == b:\n",
    "        return True\n",
    "    else:\n",
    "        return False\n",
    "    \n",
    "\n",
    "def update_h_of_one_image(k):\n",
    "    ## b: 0 ~ 31\n",
    "    for b in range(NUM_COLOR_BINS):\n",
    "        tmp = 0\n",
    "        for i in range(HEIGHT):\n",
    "            for j in range(WIDTH):\n",
    "                r, s = map_m_to_r_s(visible_state[i, j])\n",
    "                kth_row, kth_col = map_ideal_to_kth(i, j, k)\n",
    "                if is_in_color_bin(I[k][kth_row, kth_col], b) and visibility_conf_mat[s][k] == 0:\n",
    "                    tmp += 1\n",
    "        hist_mat[k, b] = tmp\n",
    "    if sum(hist_mat[k]) == 0:\n",
    "        hist_mat[k] = np.ones([1, NUM_COLOR_BINS]) / NUM_COLOR_BINS\n",
    "    else:\n",
    "        hist_mat[k] = hist_mat[k] / sum(hist_mat[k]) ## 标准化\n",
    "        \n",
    "def update_hist():\n",
    "    for k in range(NUM_INPUT):\n",
    "        update_h_of_one_image(k)\n",
    "                    \n",
    "def M_step():\n",
    "    global covariance\n",
    "    update_y_ideal()\n",
    "    covariance = update_cov()\n",
    "    update_hist()\n",
    "                "
   ]
  },
  {
   "cell_type": "code",
   "execution_count": 68,
   "metadata": {},
   "outputs": [],
   "source": [
    "M_step()"
   ]
  },
  {
   "cell_type": "code",
   "execution_count": 69,
   "metadata": {},
   "outputs": [
    {
     "name": "stdout",
     "output_type": "stream",
     "text": [
      "5\n",
      "[0.         0.00056402 0.00056402 0.00056402 0.00056402 0.00451213\n",
      " 0.00423012 0.01015228 0.00846024 0.01945854 0.04709532 0.01663847\n",
      " 0.01945854 0.07952623 0.08234631 0.09531867 0.06288776 0.1105471\n",
      " 0.12774958 0.07332205 0.03440496 0.107163   0.03102087 0.02425268\n",
      " 0.01607445 0.0143824  0.00169205 0.0070502  0.         0.\n",
      " 0.         0.        ]\n"
     ]
    },
    {
     "data": {
      "text/plain": [
       "<matplotlib.image.AxesImage at 0x1a18581320>"
      ]
     },
     "execution_count": 69,
     "metadata": {},
     "output_type": "execute_result"
    },
    {
     "data": {
      "image/png": "[encoded data removed]",
      "text/plain": [
       "<Figure size 432x288 with 1 Axes>"
      ]
     },
     "metadata": {},
     "output_type": "display_data"
    }
   ],
   "source": [
    "print(covariance)\n",
    "print((hist_mat[1]))\n",
    "plt.imshow(ideal_image, cmap ='gray')"
   ]
  },
  {
   "cell_type": "code",
   "execution_count": null,
   "metadata": {},
   "outputs": [],
   "source": [
    "I[0]"
   ]
  },
  {
   "cell_type": "code",
   "execution_count": null,
   "metadata": {},
   "outputs": [],
   "source": [
    "plt.imshow(I[0], cmap='gray')"
   ]
  },
  {
   "cell_type": "code",
   "execution_count": null,
   "metadata": {},
   "outputs": [],
   "source": [
    "## util functions and classes\n",
    "\n",
    "\n",
    "## read in the file\n",
    "class FileReader(object):\n",
    "\n",
    "    def __init__(self, file_path):\n",
    "        self.file_path = file_path\n",
    "        self.info_list = []\n",
    "        with open(self.file_path, \"r\") as infile:\n",
    "            lines = infile.readlines()[1:]\n",
    "            for info in lines:\n",
    "                self.info_list.append(self._parse_calibration_info(info))\n",
    "        \n",
    "                \n",
    "    \n",
    "    def _open_image(self, path):\n",
    "        return Image.open(path).convert('L')\n",
    "                \n",
    "\n",
    "    \n",
    "    def _parse_calibration_info(self, info):\n",
    "        info_list = info.split(' ')\n",
    "        image_name = info_list[0]\n",
    "        rotation_mat = np.zeros([3, 3])\n",
    "        K_mat = np.zeros([3, 3])\n",
    "        translation_vec = np.zeros([3, 1])\n",
    "\n",
    "        for i in range(1, 10):\n",
    "            K_mat[map_1D_to_2D(i - 1, 3, 3)] = float(info_list[i])\n",
    "        for i in range(10, 19):\n",
    "            rotation_mat[map_1D_to_2D(i - 10, 3, 3)] = float(info_list[i])\n",
    "        for i in range(19, 22):\n",
    "            translation_vec[i - 19] = float(info_list[i])\n",
    "        return (image_name, K_mat, rotation_mat, translation_vec)\n",
    "    \n",
    "    def get_image_and_calibration(self, index):\n",
    "\n",
    "        return (self._open_image(self.info_list[index][0]), self.info_list[index][1:])\n",
    "    \n",
    "\n",
    "## store image info\n",
    "class ImageInfo(object):\n",
    "    def __init__(self, info):\n",
    "        self.image = info[0]\n",
    "        self.I = np.array(self.image)\n",
    "        self.width, self.height = self.image.size\n",
    "        self.K_mat = info[1][0]\n",
    "        self.rotation_mat = info[1][1]\n",
    "        self.translation_vec = info[1][2]\n",
    "    \n",
    "    \n",
    "\n",
    "## @param: k is the num of input pictures, the ideal reference position is default as 0\n",
    "def construct_basic_param(k, ideal_index=0):\n",
    "    os.chdir(DATA_PATH)\n",
    "    file_reader = FileReader(DATA_PATH + \"dinoR_par.txt\")\n",
    "    ideal_K_mat, ideal_R, ideal_T = file_reader.get_image_and_calibration(ideal_index)[1]\n",
    "    return [ImageInfo(file_reader.get_image_and_calibration(i)) for i in range(k)], ideal_K_mat, ideal_R, ideal_T\n",
    "    "
   ]
  },
  {
   "cell_type": "markdown",
   "metadata": {},
   "source": [
    "## utils functions"
   ]
  },
  {
   "cell_type": "code",
   "execution_count": 18,
   "metadata": {},
   "outputs": [],
   "source": [
    "## 此函数需要矩阵坐标\n",
    "## 返回一个矩阵坐标\n",
    "def map_ideal_to_kth(i, j, k):\n",
    "    if k == 0:\n",
    "        return int(i), int(j)\n",
    "    else:\n",
    "        disp = disparity_image[i, j]\n",
    "        return int(i), int(j - disp)\n",
    "    \n",
    "\n",
    "## 此函数针对于 矩阵形式的坐标 \n",
    "## @param: i 为行index(height, y), j 为列index(width, x), 均从0开始\n",
    "## @return: i * n_cols + j\n",
    "def map_2D_to_1D(i, j, n_rows=HEIGHT, n_cols=WIDTH):\n",
    "    if j >= n_cols:\n",
    "        print(f\"[map_2D_to_1D]: width {j} index out of range\")\n",
    "        return None\n",
    "    elif j < 0:\n",
    "        print(f\"[map_2D_to_1D]: width {j} index out of range\")\n",
    "    if i >= n_rows:\n",
    "        print(f\"[map_2D_to_1D]: height {i} index out of range\")\n",
    "        return None  \n",
    "    elif i < 0:\n",
    "        print(f\"[map_2D_to_1D]: height {i} index out of range\")\n",
    "    return int(i * n_cols + j)\n",
    "\n",
    "## @param: index, 1维化的index\n",
    "def map_1D_to_2D(index, n_rows=HEIGHT, n_cols=WIDTH):\n",
    "    i = index // n_cols\n",
    "    j = index - i * n_cols\n",
    "    if i >= n_rows:\n",
    "        print(f\"[map_1D_to_2D] height {i} index out of range\")\n",
    "        return None\n",
    "    if j >= n_cols:\n",
    "        print(f\"[map_1D_to_2D] width {j} index out of range\")\n",
    "        return None\n",
    "    return (int(i), int(j))\n",
    "\n",
    "\n",
    "## 从状态 m，映射到 Depth level r 和 visibility configuration s\n",
    "## M = RS, m = r * S + s, m, r, s 都从0开始\n",
    "def map_m_to_r_s(m, R=NUM_DEPTH_LEVEL, S=NUM_VISIBLE_CONF):\n",
    "    return map_1D_to_2D(m, R, S)\n",
    "\n",
    "def map_r_s_to_m(r, s, R=NUM_DEPTH_LEVEL, S=NUM_VISIBLE_CONF):\n",
    "    return map_2D_to_1D(r, s, R, S)\n",
    "\n",
    "## @param: i 为行index(height, y), j 为列index(width, x), 均从0开始\n",
    "## @return: 对应的 (x, y) 坐标 = (j, i), origin 在 topleft\n",
    "def coordinate(mat_representation):\n",
    "    i, j = mat_representation\n",
    "    return (j, i)\n",
    "\n",
    "def mat_form(coordinate):\n",
    "    x, y = coordinate\n",
    "    return int(y), int(x)\n",
    "\n",
    "def is_out_image(i, j):\n",
    "    res = False\n",
    "    if i < 0 or i >= HEIGHT or j < 0 or j >= WIDTH:\n",
    "        res = True\n",
    "    \n",
    "    return res\n",
    "\n",
    "\n",
    "\n",
    "\n",
    "\n",
    "\n",
    "        "
   ]
  },
  {
   "cell_type": "code",
   "execution_count": 19,
   "metadata": {},
   "outputs": [
    {
     "name": "stdout",
     "output_type": "stream",
     "text": [
      "(1, 0)\n",
      "(0, 1)\n",
      "====================\n",
      "(1, 149)\n",
      "(0, 148)\n",
      "====================\n",
      "(123, 0)\n",
      "(124, 1)\n",
      "====================\n",
      "(123, 149)\n",
      "(124, 148)\n",
      "====================\n",
      "(3, 0)\n",
      "(5, 0)\n",
      "(4, 1)\n",
      "====================\n",
      "(3, 149)\n",
      "(5, 149)\n",
      "(4, 148)\n",
      "====================\n"
     ]
    }
   ],
   "source": [
    "def neighbor(index):\n",
    "    i, j = map_1D_to_2D(index)\n",
    "    left = i * WIDTH + j - 1\n",
    "    right = i * WIDTH + j + 1\n",
    "    upper = (i - 1) * WIDTH + j\n",
    "    lower = (i + 1) * WIDTH + j\n",
    "    \n",
    "    if i == 0:\n",
    "        if j == 0:\n",
    "            return (lower, right)\n",
    "        elif j == WIDTH - 1:\n",
    "            return (lower, left)\n",
    "        else:\n",
    "            return (lower, left, right)\n",
    "    \n",
    "    if i == HEIGHT - 1:\n",
    "        if j == 0:\n",
    "            return (upper, right)\n",
    "        elif j == WIDTH - 1:\n",
    "            return (upper, left)\n",
    "        else:\n",
    "            return(upper, left, right)\n",
    "        \n",
    "    if j == 0:\n",
    "        return (upper, lower, right)\n",
    "    if j == WIDTH - 1:\n",
    "        return (upper, lower, left)\n",
    "            \n",
    "    return (left, right, upper, lower)\n",
    "\n",
    "## test neighbor\n",
    "for item in neighbor(map_2D_to_1D(0, 0)):\n",
    "    print(map_1D_to_2D(item))\n",
    "\n",
    "print(\"=\" * 20)\n",
    "\n",
    "for item in neighbor(map_2D_to_1D(0, WIDTH - 1)):\n",
    "    print(map_1D_to_2D(item))\n",
    "    \n",
    "print(\"=\" * 20)\n",
    "\n",
    "for item in neighbor(map_2D_to_1D(HEIGHT - 1, 0)):\n",
    "    print(map_1D_to_2D(item))\n",
    "\n",
    "print(\"=\" * 20)\n",
    "\n",
    "for item in neighbor(map_2D_to_1D(HEIGHT - 1, WIDTH - 1)):\n",
    "    print(map_1D_to_2D(item))\n",
    "\n",
    "print(\"=\" * 20)\n",
    "\n",
    "for item in neighbor(map_2D_to_1D(4, 0)):\n",
    "    print(map_1D_to_2D(item))\n",
    "    \n",
    "print(\"=\" * 20)\n",
    "\n",
    "for item in neighbor(map_2D_to_1D(4, WIDTH - 1)):\n",
    "    print(map_1D_to_2D(item))\n",
    "    \n",
    "print(\"=\" * 20)"
   ]
  },
  {
   "cell_type": "code",
   "execution_count": null,
   "metadata": {},
   "outputs": [],
   "source": [
    "print(norm_pdf(200, 200, 5))\n",
    "from scipy import stats\n",
    "print(stats.norm.pdf(200, 200, 1))"
   ]
  },
  {
   "cell_type": "code",
   "execution_count": null,
   "metadata": {},
   "outputs": [],
   "source": [
    "print(hist_mat[1])"
   ]
  },
  {
   "cell_type": "code",
   "execution_count": null,
   "metadata": {},
   "outputs": [],
   "source": [
    "map_m_to_r_s(0)"
   ]
  },
  {
   "cell_type": "code",
   "execution_count": null,
   "metadata": {},
   "outputs": [],
   "source": [
    "map_m_to_r_s(18)"
   ]
  },
  {
   "cell_type": "code",
   "execution_count": null,
   "metadata": {},
   "outputs": [],
   "source": []
  },
  {
   "cell_type": "code",
   "execution_count": null,
   "metadata": {},
   "outputs": [],
   "source": []
  },
  {
   "cell_type": "code",
   "execution_count": null,
   "metadata": {},
   "outputs": [],
   "source": []
  },
  {
   "cell_type": "code",
   "execution_count": null,
   "metadata": {},
   "outputs": [],
   "source": []
  },
  {
   "cell_type": "code",
   "execution_count": null,
   "metadata": {},
   "outputs": [],
   "source": []
  },
  {
   "cell_type": "code",
   "execution_count": null,
   "metadata": {},
   "outputs": [],
   "source": []
  }
 ],
 "metadata": {
  "kernelspec": {
   "display_name": "Python [default]",
   "language": "python",
   "name": "python3"
  },
  "language_info": {
   "codemirror_mode": {
    "name": "ipython",
    "version": 3
   },
   "file_extension": ".py",
   "mimetype": "text/x-python",
   "name": "python",
   "nbconvert_exporter": "python",
   "pygments_lexer": "ipython3",
   "version": "3.6.5"
  }
 },
 "nbformat": 4,
 "nbformat_minor": 2
}
