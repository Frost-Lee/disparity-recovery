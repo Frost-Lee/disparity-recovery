{
 "cells": [
  {
   "cell_type": "code",
   "execution_count": 1,
   "metadata": {},
   "outputs": [],
   "source": [
    "from PIL import Image"
   ]
  },
  {
   "cell_type": "code",
   "execution_count": 2,
   "metadata": {},
   "outputs": [],
   "source": [
    "disp = Image.open(\"/home/vradmin/Desktop/paper_work/EM/data/cones/disp2.png\")"
   ]
  },
  {
   "cell_type": "code",
   "execution_count": 5,
   "metadata": {},
   "outputs": [],
   "source": [
    "import numpy as np"
   ]
  },
  {
   "cell_type": "code",
   "execution_count": 9,
   "metadata": {},
   "outputs": [],
   "source": [
    "disp_small_mat = np.array(disp) / 9"
   ]
  },
  {
   "cell_type": "code",
   "execution_count": 12,
   "metadata": {},
   "outputs": [],
   "source": [
    "disp_small = Image.fromarray(disp_small_mat.astype('uint8'))"
   ]
  },
  {
   "cell_type": "code",
   "execution_count": 19,
   "metadata": {},
   "outputs": [
    {
     "data": {
      "text/plain": [
       "array([[ 7,  7,  7, ...,  9,  9,  9],\n",
       "       [ 7,  7,  7, ...,  9,  9,  9],\n",
       "       [ 7,  7,  7, ...,  9,  9,  9],\n",
       "       ...,\n",
       "       [24, 24, 24, ..., 19,  0,  0],\n",
       "       [24, 24, 24, ..., 19, 19, 20],\n",
       "       [24, 24, 24, ..., 21, 21, 21]], dtype=uint8)"
      ]
     },
     "execution_count": 19,
     "metadata": {},
     "output_type": "execute_result"
    }
   ],
   "source": [
    "np.array(disp_small.resize([150, 125], I))"
   ]
  },
  {
   "cell_type": "code",
   "execution_count": 20,
   "metadata": {},
   "outputs": [],
   "source": [
    "disp_before = Image.open(\"/home/vradmin/Desktop/paper_work/EM/data/cones/disp2_small.png\")"
   ]
  },
  {
   "cell_type": "code",
   "execution_count": 23,
   "metadata": {},
   "outputs": [
    {
     "data": {
      "text/plain": [
       "array([[ 7,  7,  7, ...,  9,  8,  8],\n",
       "       [ 7,  7,  7, ...,  9,  9,  9],\n",
       "       [ 7,  7,  7, ...,  9,  9,  9],\n",
       "       ...,\n",
       "       [24, 24, 24, ..., 18,  7,  7],\n",
       "       [24, 24, 24, ..., 19, 20, 21],\n",
       "       [24, 24, 24, ..., 21, 21, 21]], dtype=uint8)"
      ]
     },
     "execution_count": 23,
     "metadata": {},
     "output_type": "execute_result"
    }
   ],
   "source": [
    "(np.array(disp_before) / 9).astype('uint8')"
   ]
  },
  {
   "cell_type": "code",
   "execution_count": 28,
   "metadata": {},
   "outputs": [],
   "source": [
    "view1 = Image.open(\"/home/vradmin/Desktop/paper_work/EM/data/Aloe/view1.png\").convert(\"L\")\n",
    "view5 = Image.open(\"/home/vradmin/Desktop/paper_work/EM/data/Aloe/view5.png\").convert(\"L\")\n",
    "disp1 = Image.open(\"/home/vradmin/Desktop/paper_work/EM/data/Aloe/disp1.png\")"
   ]
  },
  {
   "cell_type": "code",
   "execution_count": 30,
   "metadata": {},
   "outputs": [
    {
     "ename": "AttributeError",
     "evalue": "'PngImageFile' object has no attribute 'shape'",
     "output_type": "error",
     "traceback": [
      "\u001b[0;31m---------------------------------------------------------------------------\u001b[0m",
      "\u001b[0;31mAttributeError\u001b[0m                            Traceback (most recent call last)",
      "\u001b[0;32m<ipython-input-30-7f1a77ec3f9d>\u001b[0m in \u001b[0;36m<module>\u001b[0;34m()\u001b[0m\n\u001b[0;32m----> 1\u001b[0;31m \u001b[0mview1\u001b[0m\u001b[0;34m.\u001b[0m\u001b[0mshape\u001b[0m\u001b[0;34m\u001b[0m\u001b[0m\n\u001b[0m",
      "\u001b[0;31mAttributeError\u001b[0m: 'PngImageFile' object has no attribute 'shape'"
     ]
    }
   ],
   "source": [
    "view1_mat = view1.con"
   ]
  },
  {
   "cell_type": "code",
   "execution_count": 31,
   "metadata": {},
   "outputs": [
    {
     "data": {
      "text/plain": [
       "array([[[191, 168, 126],\n",
       "        [179, 136, 105],\n",
       "        [183, 128, 106],\n",
       "        ...,\n",
       "        [183, 193, 162],\n",
       "        [158, 183, 149],\n",
       "        [175, 194, 161]],\n",
       "\n",
       "       [[180, 178, 137],\n",
       "        [193, 186, 150],\n",
       "        [204, 183, 148],\n",
       "        ...,\n",
       "        [207, 207, 170],\n",
       "        [193, 199, 165],\n",
       "        [193, 200, 168]],\n",
       "\n",
       "       [[181, 190, 152],\n",
       "        [198, 197, 153],\n",
       "        [200, 193, 143],\n",
       "        ...,\n",
       "        [187, 187, 155],\n",
       "        [205, 204, 167],\n",
       "        [200, 202, 164]],\n",
       "\n",
       "       ...,\n",
       "\n",
       "       [[188, 211, 176],\n",
       "        [211, 224, 198],\n",
       "        [241, 240, 208],\n",
       "        ...,\n",
       "        [199, 179, 139],\n",
       "        [196, 181, 139],\n",
       "        [194, 185, 142]],\n",
       "\n",
       "       [[195, 221, 179],\n",
       "        [181, 205, 176],\n",
       "        [216, 228, 204],\n",
       "        ...,\n",
       "        [181, 155, 125],\n",
       "        [177, 169, 133],\n",
       "        [181, 185, 143]],\n",
       "\n",
       "       [[202, 229, 189],\n",
       "        [193, 219, 179],\n",
       "        [181, 203, 178],\n",
       "        ...,\n",
       "        [194, 185, 150],\n",
       "        [189, 187, 150],\n",
       "        [181, 187, 150]]], dtype=uint8)"
      ]
     },
     "execution_count": 31,
     "metadata": {},
     "output_type": "execute_result"
    }
   ],
   "source": [
    "np.array(view5)"
   ]
  },
  {
   "cell_type": "code",
   "execution_count": 29,
   "metadata": {},
   "outputs": [
    {
     "data": {
      "image/png": "[encoded data removed]",
      "text/plain": [
       "<PIL.PngImagePlugin.PngImageFile image mode=L size=427x370 at 0x7F299803B1D0>"
      ]
     },
     "execution_count": 29,
     "metadata": {},
     "output_type": "execute_result"
    }
   ],
   "source": [
    "disp1"
   ]
  },
  {
   "cell_type": "code",
   "execution_count": null,
   "metadata": {},
   "outputs": [],
   "source": []
  }
 ],
 "metadata": {
  "kernelspec": {
   "display_name": "Python 3",
   "language": "python",
   "name": "python3"
  },
  "language_info": {
   "codemirror_mode": {
    "name": "ipython",
    "version": 3
   },
   "file_extension": ".py",
   "mimetype": "text/x-python",
   "name": "python",
   "nbconvert_exporter": "python",
   "pygments_lexer": "ipython3",
   "version": "3.7.0"
  }
 },
 "nbformat": 4,
 "nbformat_minor": 2
}
